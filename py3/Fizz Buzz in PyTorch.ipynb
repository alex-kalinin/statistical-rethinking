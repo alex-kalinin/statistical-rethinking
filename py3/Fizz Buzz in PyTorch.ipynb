{
 "cells": [
  {
   "cell_type": "markdown",
   "metadata": {},
   "source": [
    "Inspired by https://joelgrus.com/2016/05/23/fizz-buzz-in-tensorflow/"
   ]
  },
  {
   "cell_type": "code",
   "execution_count": 34,
   "metadata": {},
   "outputs": [],
   "source": [
    "import torch\n",
    "import numpy as np\n",
    "from torch import nn"
   ]
  },
  {
   "cell_type": "code",
   "execution_count": 35,
   "metadata": {},
   "outputs": [],
   "source": [
    "BITS = 12"
   ]
  },
  {
   "cell_type": "code",
   "execution_count": 36,
   "metadata": {},
   "outputs": [],
   "source": [
    "label_text = [\n",
    "    'fizz', \n",
    "    'buzz', \n",
    "    'fizzbuzz',\n",
    "    ''\n",
    "]"
   ]
  },
  {
   "cell_type": "code",
   "execution_count": 67,
   "metadata": {},
   "outputs": [],
   "source": [
    "def to_binary(i, num_bits):\n",
    "    digits = np.array([i >> d & 1 for d in range(num_bits)])\n",
    "    # Reverses the array to have the bits in the usual order.\n",
    "    return digits[::-1].copy()"
   ]
  },
  {
   "cell_type": "code",
   "execution_count": 68,
   "metadata": {},
   "outputs": [
    {
     "data": {
      "text/plain": [
       "array([0, 0, 1, 0, 0, 0, 0, 0, 0, 0, 0, 0])"
      ]
     },
     "execution_count": 68,
     "metadata": {},
     "output_type": "execute_result"
    }
   ],
   "source": [
    "to_binary(4, 12)[::-1]"
   ]
  },
  {
   "cell_type": "code",
   "execution_count": 69,
   "metadata": {},
   "outputs": [],
   "source": [
    "def get_label(i):\n",
    "    if   i % 15 == 0: return 2\n",
    "    elif i % 5  == 0: return 1\n",
    "    elif i % 3  == 0: return 0\n",
    "    else:             return 3"
   ]
  },
  {
   "cell_type": "code",
   "execution_count": 70,
   "metadata": {},
   "outputs": [],
   "source": [
    "train_x = np.array([to_binary(i, BITS) for i in range(101, 2**BITS)])\n",
    "train_y = np.array([get_label(i) for i in range(101, 2**BITS)])"
   ]
  },
  {
   "cell_type": "code",
   "execution_count": 71,
   "metadata": {},
   "outputs": [],
   "source": [
    "def create_net():\n",
    "    return nn.Sequential(\n",
    "        nn.Linear(BITS, 100),\n",
    "        nn.ReLU(),\n",
    "        nn.Linear(100, len(label_text)),\n",
    "        nn.LogSoftmax(dim=-1)\n",
    "    )"
   ]
  },
  {
   "cell_type": "code",
   "execution_count": 82,
   "metadata": {},
   "outputs": [],
   "source": [
    "loss = nn.NLLLoss()"
   ]
  },
  {
   "cell_type": "code",
   "execution_count": 83,
   "metadata": {},
   "outputs": [],
   "source": [
    "def accuracy(model,  loss):\n",
    "    test_x = []\n",
    "    test_y = []\n",
    "    for i in range(1, 100):\n",
    "        expect = get_label(i)\n",
    "        test_x.append(to_binary(i, BITS))\n",
    "        test_y.append(expect)\n",
    "    x = torch.from_numpy(np.array(test_x)).float()\n",
    "    y = torch.from_numpy(np.array(test_y))\n",
    "    pred_y = model(x)\n",
    "    pred = torch.argmax(pred_y, dim=1)\n",
    "    acc = (y == pred).sum().float() / x.shape[0]\n",
    "    return acc.item()"
   ]
  },
  {
   "cell_type": "code",
   "execution_count": 91,
   "metadata": {},
   "outputs": [],
   "source": [
    "model = create_net()"
   ]
  },
  {
   "cell_type": "code",
   "execution_count": 92,
   "metadata": {},
   "outputs": [],
   "source": [
    "opt = torch.optim.SGD(\n",
    "    model.parameters(), \n",
    "    lr=5e-3, \n",
    "    momentum=0.9, \n",
    "    nesterov=True)"
   ]
  },
  {
   "cell_type": "markdown",
   "metadata": {},
   "source": [
    "Training Loop:"
   ]
  },
  {
   "cell_type": "code",
   "execution_count": 95,
   "metadata": {},
   "outputs": [
    {
     "name": "stdout",
     "output_type": "stream",
     "text": [
      "1 0 Loss: 0.01220577210187912 test accuracy: 0.9797979593276978\n",
      "101 0 Loss: 0.0042299311608076096 test accuracy: 1.0\n",
      "201 0 Loss: 0.0035613637883216143 test accuracy: 1.0\n",
      "301 0 Loss: 0.003199198981747031 test accuracy: 1.0\n",
      "401 0 Loss: 0.002829307224601507 test accuracy: 1.0\n",
      "499 124 Loss: 0.0019508247496560216 test accuracy: 1.0\n"
     ]
    }
   ],
   "source": [
    "train_x_t = torch.from_numpy(train_x).float()\n",
    "train_y_t = torch.from_numpy(train_y)\n",
    "\n",
    "print_every=100\n",
    "batch_size = 32\n",
    "test_pred = None\n",
    "\n",
    "for i in range(500):\n",
    "    batches = int(train_x.shape[0] / batch_size + 1)\n",
    "    printed = False\n",
    "    for b in range(batches):\n",
    "        start = b * batch_size\n",
    "        end = (b + 1) * batch_size\n",
    "        bt = train_x_t[start:end]\n",
    "        by = train_y_t[start:end]\n",
    "        y_pred = model(bt)\n",
    "        loss_val = loss(y_pred, by)\n",
    "        model.zero_grad()\n",
    "        loss_val.backward()\n",
    "        opt.step()\n",
    "        if i % print_every == 1 and not printed:\n",
    "            print(i, b, \"Loss:\", loss_val.item(), \"test accuracy:\", accuracy(model, loss))\n",
    "            printed = True\n",
    "print(i, b, \"Loss:\", loss_val.item(), \"test accuracy:\", accuracy(model, loss))"
   ]
  },
  {
   "cell_type": "code",
   "execution_count": 109,
   "metadata": {},
   "outputs": [],
   "source": [
    "def predict(num):\n",
    "    enc = to_binary(num, BITS)\n",
    "    enc = torch.from_numpy(enc).float()\n",
    "    pred = model(enc)\n",
    "    pred = torch.exp(pred)\n",
    "    index = torch.argmax(pred).item()\n",
    "    return (num, label_text[index])"
   ]
  },
  {
   "cell_type": "code",
   "execution_count": 110,
   "metadata": {},
   "outputs": [
    {
     "data": {
      "text/plain": [
       "((75, 'fizzbuzz'), (10, 'buzz'), (3, 'fizz'), (21, 'fizz'), (7, ''))"
      ]
     },
     "execution_count": 110,
     "metadata": {},
     "output_type": "execute_result"
    }
   ],
   "source": [
    "predict(75), predict(10), predict(3), predict(21), predict(7)"
   ]
  },
  {
   "cell_type": "code",
   "execution_count": null,
   "metadata": {},
   "outputs": [],
   "source": []
  }
 ],
 "metadata": {
  "kernelspec": {
   "display_name": "Python 3",
   "language": "python",
   "name": "python3"
  },
  "language_info": {
   "codemirror_mode": {
    "name": "ipython",
    "version": 3
   },
   "file_extension": ".py",
   "mimetype": "text/x-python",
   "name": "python",
   "nbconvert_exporter": "python",
   "pygments_lexer": "ipython3",
   "version": "3.6.10"
  }
 },
 "nbformat": 4,
 "nbformat_minor": 4
}
